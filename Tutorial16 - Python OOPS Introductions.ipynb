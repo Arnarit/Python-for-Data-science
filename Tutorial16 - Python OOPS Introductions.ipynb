{
 "cells": [
  {
   "cell_type": "markdown",
   "metadata": {},
   "source": [
    "## Classes :\n",
    "#### Real world entity or object , it has attributes and methods\n",
    "\n",
    "## Attributes :\n",
    "#### Properties of the class\n",
    "\n",
    "## Methods:\n",
    "#### actions of the class\n"
   ]
  },
  {
   "cell_type": "code",
   "execution_count": 2,
   "metadata": {},
   "outputs": [
    {
     "name": "stdout",
     "output_type": "stream",
     "text": [
      "<__main__.Car object at 0x000002008636CB00>\n"
     ]
    }
   ],
   "source": [
    "class Car :\n",
    "    pass\n",
    "\n",
    "\n",
    "car1 = Car() # OBJECT 1\n",
    "car2 = Car() # OBJECT 2\n",
    "\n",
    "print(car1)"
   ]
  },
  {
   "cell_type": "code",
   "execution_count": 9,
   "metadata": {},
   "outputs": [
    {
     "name": "stdout",
     "output_type": "stream",
     "text": [
      "diesel\n",
      "petrol\n",
      "['__class__', '__delattr__', '__dict__', '__dir__', '__doc__', '__eq__', '__format__', '__ge__', '__getattribute__', '__getstate__', '__gt__', '__hash__', '__init__', '__init_subclass__', '__le__', '__lt__', '__module__', '__ne__', '__new__', '__reduce__', '__reduce_ex__', '__repr__', '__setattr__', '__sizeof__', '__str__', '__subclasshook__', '__weakref__', 'engine', 'tyres', 'windows']\n"
     ]
    }
   ],
   "source": [
    "class Car :\n",
    "    pass\n",
    "\n",
    "\n",
    "car1 = Car() # OBJECT 1\n",
    "car2 = Car() # OBJECT 2\n",
    "\n",
    "car1.windows=4   ## Attributes of object 1\n",
    "car1.tyres=4   \n",
    "car1.engine=\"diesel\"\n",
    "\n",
    "car2.windows=4    ## Attributes of object 2\n",
    "car2.tyres=6\n",
    "car2.engine=\"petrol\"\n",
    "\n",
    "print(car1.engine)\n",
    "print(car2.engine)\n",
    "\n",
    "print(dir(car1))\n",
    "\n",
    "## But this is bad approach "
   ]
  },
  {
   "cell_type": "code",
   "execution_count": 10,
   "metadata": {},
   "outputs": [
    {
     "name": "stdout",
     "output_type": "stream",
     "text": [
      "The nummber of tyres in object car 1 is 4\n",
      "The nummber of windows in object car 1 is 4\n"
     ]
    }
   ],
   "source": [
    "class Car:\n",
    "    \n",
    "    #constructor\n",
    "    \n",
    "    def __init__(self,windows,tyres,engine): ##  windows ,tyres,engine are parameters ...... __init__() is a constructor function\n",
    "        self.window=windows\n",
    "        self.tyre=tyres\n",
    "        self.engine=engine  ## Here self.attributes = parameters ....... Parameters and attributes can be same or different\n",
    "        \n",
    "        \n",
    "car1=Car(4,4,\"petrol\")\n",
    "print(\"The nummber of tyres in object car 1 is {}\".format(car1.tyre))\n",
    "print(\"The nummber of windows in object car 1 is {}\".format(car1.window))"
   ]
  },
  {
   "cell_type": "code",
   "execution_count": 11,
   "metadata": {},
   "outputs": [
    {
     "name": "stdout",
     "output_type": "stream",
     "text": [
      "The nummber of tyres in object car 1 is 4\n",
      "The nummber of windows in object car 1 is 4\n",
      "The car types is petrol\n"
     ]
    }
   ],
   "source": [
    "class Car:\n",
    "    \n",
    "    #constructor\n",
    "    \n",
    "    def __init__(self,windows,tyres,engine): ##  windows ,tyres,engine are parameters ...... __init__() is a constructor function\n",
    "        self.windows=windows\n",
    "        self.tyres=tyres\n",
    "        self.engine=engine  ## Here self.attributes = parameters ....... Parameters and attributes can be same or different\n",
    "    \n",
    "    def self_driving(self): ## methods \n",
    "        print(\"The car types is {}\".format(self.engine))    \n",
    "        \n",
    "car1=Car(4,4,\"petrol\")\n",
    "print(\"The nummber of tyres in object car 1 is {}\".format(car1.tyres))\n",
    "print(\"The nummber of windows in object car 1 is {}\".format(car1.windows))\n",
    "\n",
    "car1.self_driving()"
   ]
  },
  {
   "cell_type": "code",
   "execution_count": 10,
   "metadata": {},
   "outputs": [
    {
     "name": "stdout",
     "output_type": "stream",
     "text": [
      "The nummber of tyres in object car 1 is 4\n",
      "The nummber of windows in object car 1 is 4\n",
      "The car types is electric\n"
     ]
    }
   ],
   "source": [
    "class Car:\n",
    "    \n",
    "    #constructor\n",
    "    \n",
    "    def __init__(self,windows,tyres,engine): ## windows ,tyres,engine are parameters ...... __init__() is a constructor function\n",
    "        self.windows=windows\n",
    "        self.tyres=tyres\n",
    "        self.engine=engine  ## Here self.attributes = parameters ....... Parameters and attributes can be same or different\n",
    "    \n",
    "    def self_driving(self,engine): ##methods and here engine is other parameter\n",
    "        print(\"The car types is {}\".format(engine))    \n",
    "        \n",
    "car1=Car(4,4,\"petrol\")\n",
    "print(\"The nummber of tyres in object car 1 is {}\".format(car1.tyres))\n",
    "print(\"The nummber of windows in object car 1 is {}\".format(car1.windows))\n",
    "\n",
    "car1.self_driving(\"electric\")"
   ]
  },
  {
   "cell_type": "code",
   "execution_count": null,
   "metadata": {},
   "outputs": [],
   "source": []
  },
  {
   "cell_type": "code",
   "execution_count": null,
   "metadata": {},
   "outputs": [],
   "source": []
  },
  {
   "cell_type": "code",
   "execution_count": null,
   "metadata": {},
   "outputs": [],
   "source": []
  },
  {
   "cell_type": "code",
   "execution_count": null,
   "metadata": {},
   "outputs": [],
   "source": []
  },
  {
   "cell_type": "code",
   "execution_count": null,
   "metadata": {},
   "outputs": [],
   "source": []
  },
  {
   "cell_type": "code",
   "execution_count": null,
   "metadata": {},
   "outputs": [],
   "source": []
  },
  {
   "cell_type": "code",
   "execution_count": null,
   "metadata": {},
   "outputs": [],
   "source": []
  },
  {
   "cell_type": "code",
   "execution_count": null,
   "metadata": {},
   "outputs": [],
   "source": []
  },
  {
   "cell_type": "code",
   "execution_count": null,
   "metadata": {},
   "outputs": [],
   "source": []
  },
  {
   "cell_type": "code",
   "execution_count": null,
   "metadata": {},
   "outputs": [],
   "source": []
  },
  {
   "cell_type": "code",
   "execution_count": null,
   "metadata": {},
   "outputs": [],
   "source": []
  },
  {
   "cell_type": "code",
   "execution_count": null,
   "metadata": {},
   "outputs": [],
   "source": []
  },
  {
   "cell_type": "code",
   "execution_count": null,
   "metadata": {},
   "outputs": [],
   "source": []
  },
  {
   "cell_type": "code",
   "execution_count": null,
   "metadata": {},
   "outputs": [],
   "source": []
  },
  {
   "cell_type": "code",
   "execution_count": null,
   "metadata": {},
   "outputs": [],
   "source": []
  },
  {
   "cell_type": "code",
   "execution_count": null,
   "metadata": {},
   "outputs": [],
   "source": []
  },
  {
   "cell_type": "code",
   "execution_count": null,
   "metadata": {},
   "outputs": [],
   "source": []
  },
  {
   "cell_type": "code",
   "execution_count": null,
   "metadata": {},
   "outputs": [],
   "source": []
  },
  {
   "cell_type": "code",
   "execution_count": null,
   "metadata": {},
   "outputs": [],
   "source": []
  },
  {
   "cell_type": "code",
   "execution_count": null,
   "metadata": {},
   "outputs": [],
   "source": []
  }
 ],
 "metadata": {
  "kernelspec": {
   "display_name": "Python 3",
   "language": "python",
   "name": "python3"
  },
  "language_info": {
   "codemirror_mode": {
    "name": "ipython",
    "version": 3
   },
   "file_extension": ".py",
   "mimetype": "text/x-python",
   "name": "python",
   "nbconvert_exporter": "python",
   "pygments_lexer": "ipython3",
   "version": "3.13.0"
  }
 },
 "nbformat": 4,
 "nbformat_minor": 2
}
