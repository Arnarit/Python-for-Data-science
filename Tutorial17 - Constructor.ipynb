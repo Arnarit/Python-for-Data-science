{
 "cells": [
  {
   "cell_type": "code",
   "execution_count": 6,
   "metadata": {},
   "outputs": [
    {
     "ename": "TypeError",
     "evalue": "Animal.__init__() missing 1 required positional argument: 'age'",
     "output_type": "error",
     "traceback": [
      "\u001b[1;31m---------------------------------------------------------------------------\u001b[0m",
      "\u001b[1;31mTypeError\u001b[0m                                 Traceback (most recent call last)",
      "Cell \u001b[1;32mIn[6], line 14\u001b[0m\n\u001b[0;32m     11\u001b[0m     \u001b[38;5;28;01mdef\u001b[39;00m \u001b[38;5;21mmake_sound\u001b[39m(\u001b[38;5;28mself\u001b[39m,sound):\n\u001b[0;32m     12\u001b[0m         \u001b[38;5;28;01mreturn\u001b[39;00m \u001b[38;5;124m\"\u001b[39m\u001b[38;5;124mThe animal is \u001b[39m\u001b[38;5;132;01m{}\u001b[39;00m\u001b[38;5;124m and says \u001b[39m\u001b[38;5;132;01m{}\u001b[39;00m\u001b[38;5;124m\"\u001b[39m\u001b[38;5;241m.\u001b[39mformat(\u001b[38;5;28mself\u001b[39m\u001b[38;5;241m.\u001b[39mname,sound)\n\u001b[1;32m---> 14\u001b[0m dog\u001b[38;5;241m=\u001b[39m\u001b[43mAnimal\u001b[49m\u001b[43m(\u001b[49m\u001b[38;5;124;43m\"\u001b[39;49m\u001b[38;5;124;43mdog\u001b[39;49m\u001b[38;5;124;43m\"\u001b[39;49m\u001b[43m,\u001b[49m\u001b[38;5;124;43m\"\u001b[39;49m\u001b[38;5;124;43mspecies\u001b[39;49m\u001b[38;5;124;43m\"\u001b[39;49m\u001b[43m)\u001b[49m\n\u001b[0;32m     15\u001b[0m \u001b[38;5;28mprint\u001b[39m(dog)\n",
      "\u001b[1;31mTypeError\u001b[0m: Animal.__init__() missing 1 required positional argument: 'age'"
     ]
    }
   ],
   "source": [
    "class Animal:\n",
    "    def __init__(self,name,species):\n",
    "        self.name=name\n",
    "        self.species=species\n",
    "        \n",
    "    def __init__(self,name ,species,age):\n",
    "        self.name=name\n",
    "        self.species=species\n",
    "        self.age=age\n",
    "        \n",
    "    def make_sound(self,sound):\n",
    "        return \"The animal is {} and says {}\".format(self.name,sound)\n",
    "    \n",
    "dog=Animal(\"dog\",\"species\")\n",
    "print(dog)"
   ]
  },
  {
   "cell_type": "code",
   "execution_count": 3,
   "metadata": {},
   "outputs": [
    {
     "name": "stdout",
     "output_type": "stream",
     "text": [
      "<__main__.Animal object at 0x00000268A68397F0>\n"
     ]
    }
   ],
   "source": [
    "class Animal:\n",
    "    def __init__(self,name,species):\n",
    "        self.name=name\n",
    "        self.species=species\n",
    "        \n",
    "    def __init__(self,name ,species,age):\n",
    "        self.name=name\n",
    "        self.species=species\n",
    "        self.age=age\n",
    "        \n",
    "    def make_sound(self,sound):\n",
    "        return \"The animal is {} and says {}\".format(self.name,sound)\n",
    "    \n",
    "dog=Animal(\"dog\",\"species\",17)\n",
    "print(dog)\n",
    "\n",
    "\n",
    "\n",
    "## It means in pyhton language only last contsructor among multiple contructors will work and rest of them will not work i.e multiple constructor will not work in python language "
   ]
  },
  {
   "cell_type": "code",
   "execution_count": 17,
   "metadata": {},
   "outputs": [
    {
     "name": "stdout",
     "output_type": "stream",
     "text": [
      "dog\n",
      "mammals\n",
      "17\n",
      "The animal is dog and says woof wwoof\n"
     ]
    }
   ],
   "source": [
    "### Still we can use multiple contructors with some techniques but this is not good appraoch for coding :\n",
    "\n",
    "class Animal:\n",
    "    def __init__(self,*args):\n",
    "        if len(args)==1:\n",
    "            self.name = args[0]\n",
    "        elif len(args)==2:\n",
    "            self.name = args[0]\n",
    "            self.species = args[1]\n",
    "        elif len(args)==3:\n",
    "            self.name = args[0]\n",
    "            self.species = args[1]\n",
    "            self.age = args[2]\n",
    "\n",
    "    def make_sound(self, sound):\n",
    "        return \"The animal is {} and says {}\".format(self.name, sound)\n",
    "\n",
    "dog=Animal(\"dog\",\"mammals\",17)\n",
    "print(dog.name)\n",
    "print(dog.species)\n",
    "print(dog.age)\n",
    "print(dog.make_sound(\"woof wwoof\"))"
   ]
  },
  {
   "cell_type": "code",
   "execution_count": null,
   "metadata": {},
   "outputs": [],
   "source": []
  },
  {
   "cell_type": "code",
   "execution_count": null,
   "metadata": {},
   "outputs": [],
   "source": []
  },
  {
   "cell_type": "code",
   "execution_count": null,
   "metadata": {},
   "outputs": [],
   "source": []
  },
  {
   "cell_type": "code",
   "execution_count": null,
   "metadata": {},
   "outputs": [],
   "source": []
  },
  {
   "cell_type": "code",
   "execution_count": null,
   "metadata": {},
   "outputs": [],
   "source": []
  },
  {
   "cell_type": "code",
   "execution_count": null,
   "metadata": {},
   "outputs": [],
   "source": []
  },
  {
   "cell_type": "code",
   "execution_count": null,
   "metadata": {},
   "outputs": [],
   "source": []
  },
  {
   "cell_type": "code",
   "execution_count": null,
   "metadata": {},
   "outputs": [],
   "source": []
  },
  {
   "cell_type": "code",
   "execution_count": null,
   "metadata": {},
   "outputs": [],
   "source": []
  }
 ],
 "metadata": {
  "kernelspec": {
   "display_name": "Python 3",
   "language": "python",
   "name": "python3"
  },
  "language_info": {
   "codemirror_mode": {
    "name": "ipython",
    "version": 3
   },
   "file_extension": ".py",
   "mimetype": "text/x-python",
   "name": "python",
   "nbconvert_exporter": "python",
   "pygments_lexer": "ipython3",
   "version": "3.13.0"
  }
 },
 "nbformat": 4,
 "nbformat_minor": 2
}
