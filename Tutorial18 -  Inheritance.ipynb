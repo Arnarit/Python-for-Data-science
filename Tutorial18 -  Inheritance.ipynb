{
 "cells": [
  {
   "cell_type": "code",
   "execution_count": 3,
   "metadata": {},
   "outputs": [
    {
     "name": "stdout",
     "output_type": "stream",
     "text": [
      "200\n",
      "4\n",
      "Car is used for driving\n"
     ]
    }
   ],
   "source": [
    "##inheritence\n",
    "## car class blueprint\n",
    "\n",
    "class Car: ## Parent class\n",
    "    def __init__(self,windows,doors,enginetype):\n",
    "        self.windows=windows\n",
    "        self.doors=doors\n",
    "        self.enginetype=enginetype\n",
    "        \n",
    "    def driving(self):\n",
    "        print(\"Car is used for driving\")\n",
    "        \n",
    "## Audi car in inheriting from the Car class        \n",
    "class Audi(Car): ### Here audi is inherit from the car class. Here audi can get all the attributes present in the car class and it is a child class\n",
    "    def __init__(self,windows,doors,enginetype,horsepower):\n",
    "        super().__init__(windows,doors,enginetype) ## Here super() function is calling the parent class car and inherit the all attributes of car to audi by __init__() function\n",
    "        self.horsepower=horsepower\n",
    "        \n",
    "audiq7=Audi(4,5,\"Diesel\",200) \n",
    "\n",
    "print(audiq7.horsepower)\n",
    "print(audiq7.windows)\n",
    "audiq7.driving()      \n",
    "        \n",
    "    "
   ]
  },
  {
   "cell_type": "code",
   "execution_count": 10,
   "metadata": {},
   "outputs": [
    {
     "name": "stdout",
     "output_type": "stream",
     "text": [
      "200\n",
      "4\n",
      "Car is used for driving\n",
      "It is a self driving car\n",
      "<__main__.Car object at 0x000001E3CA602630>\n",
      "<__main__.Audi object at 0x000001E3CA601D30>\n",
      "['__class__', '__delattr__', '__dict__', '__dir__', '__doc__', '__eq__', '__format__', '__ge__', '__getattribute__', '__getstate__', '__gt__', '__hash__', '__init__', '__init_subclass__', '__le__', '__lt__', '__module__', '__ne__', '__new__', '__reduce__', '__reduce_ex__', '__repr__', '__setattr__', '__sizeof__', '__str__', '__subclasshook__', '__weakref__', 'doors', 'driving', 'enginetype', 'horsepower', 'selfdriving', 'windows']\n",
      "['__class__', '__delattr__', '__dict__', '__dir__', '__doc__', '__eq__', '__format__', '__ge__', '__getattribute__', '__getstate__', '__gt__', '__hash__', '__init__', '__init_subclass__', '__le__', '__lt__', '__module__', '__ne__', '__new__', '__reduce__', '__reduce_ex__', '__repr__', '__setattr__', '__sizeof__', '__str__', '__subclasshook__', '__weakref__', 'doors', 'driving', 'enginetype', 'windows']\n"
     ]
    }
   ],
   "source": [
    "##inheritence\n",
    "## car class blueprint\n",
    "\n",
    "class Car: \n",
    "    def __init__(self,windows,doors,enginetype):\n",
    "        self.windows=windows\n",
    "        self.doors=doors\n",
    "        self.enginetype=enginetype\n",
    "        \n",
    "    def driving(self):\n",
    "        print(\"Car is used for driving\")\n",
    "        \n",
    "## Audi car in inheriting from the Car class        \n",
    "class Audi(Car): ### Here audi is inherit from the car class. Here audi can get all the attributes present in the car class and it is a child class\n",
    "    def __init__(self,windows,doors,enginetype,horsepower):\n",
    "        super().__init__(windows,doors,enginetype) ## Here super() function is calling the parent class car and inherit the all attributes of car to audi by __init__() function\n",
    "        self.horsepower=horsepower\n",
    "        \n",
    "    def selfdriving(self):\n",
    "        print(\"It is a self driving car\")\n",
    "        \n",
    "audiq7=Audi(4,5,\"Diesel\",200) \n",
    "\n",
    "print(audiq7.horsepower)\n",
    "print(audiq7.windows)\n",
    "audiq7.driving()   \n",
    "audiq7.selfdriving()        \n",
    "\n",
    "car1=Car(4,5,\"Diesel\")\n",
    "\n",
    "print(car1) ## Parent class\n",
    "print(audiq7) ## Child class\n",
    "\n",
    "print(dir(audiq7))\n",
    "print(dir(car1))\n",
    "\n",
    "## Note: Child class have all attributes and methods which are present in the parent class."
   ]
  },
  {
   "cell_type": "code",
   "execution_count": null,
   "metadata": {},
   "outputs": [],
   "source": []
  },
  {
   "cell_type": "code",
   "execution_count": null,
   "metadata": {},
   "outputs": [],
   "source": []
  },
  {
   "cell_type": "code",
   "execution_count": null,
   "metadata": {},
   "outputs": [],
   "source": []
  },
  {
   "cell_type": "code",
   "execution_count": null,
   "metadata": {},
   "outputs": [],
   "source": []
  },
  {
   "cell_type": "code",
   "execution_count": null,
   "metadata": {},
   "outputs": [],
   "source": []
  },
  {
   "cell_type": "code",
   "execution_count": null,
   "metadata": {},
   "outputs": [],
   "source": []
  },
  {
   "cell_type": "code",
   "execution_count": null,
   "metadata": {},
   "outputs": [],
   "source": []
  },
  {
   "cell_type": "code",
   "execution_count": null,
   "metadata": {},
   "outputs": [],
   "source": []
  },
  {
   "cell_type": "code",
   "execution_count": null,
   "metadata": {},
   "outputs": [],
   "source": []
  },
  {
   "cell_type": "code",
   "execution_count": null,
   "metadata": {},
   "outputs": [],
   "source": []
  },
  {
   "cell_type": "code",
   "execution_count": null,
   "metadata": {},
   "outputs": [],
   "source": []
  },
  {
   "cell_type": "code",
   "execution_count": null,
   "metadata": {},
   "outputs": [],
   "source": []
  },
  {
   "cell_type": "code",
   "execution_count": null,
   "metadata": {},
   "outputs": [],
   "source": []
  },
  {
   "cell_type": "code",
   "execution_count": null,
   "metadata": {},
   "outputs": [],
   "source": []
  },
  {
   "cell_type": "code",
   "execution_count": null,
   "metadata": {},
   "outputs": [],
   "source": []
  },
  {
   "cell_type": "code",
   "execution_count": null,
   "metadata": {},
   "outputs": [],
   "source": []
  }
 ],
 "metadata": {
  "kernelspec": {
   "display_name": "Python 3",
   "language": "python",
   "name": "python3"
  },
  "language_info": {
   "codemirror_mode": {
    "name": "ipython",
    "version": 3
   },
   "file_extension": ".py",
   "mimetype": "text/x-python",
   "name": "python",
   "nbconvert_exporter": "python",
   "pygments_lexer": "ipython3",
   "version": "3.13.0"
  }
 },
 "nbformat": 4,
 "nbformat_minor": 2
}
