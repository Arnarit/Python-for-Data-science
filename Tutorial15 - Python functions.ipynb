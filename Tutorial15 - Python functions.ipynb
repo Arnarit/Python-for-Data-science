{
 "cells": [
  {
   "cell_type": "markdown",
   "metadata": {},
   "source": [
    "# why functions?(Interview Question)\n",
    " 1. to make code more readable\n",
    " 2. to make code more efficient\n",
    " 3. to make code more maintainable\n",
    " 4. to make code more reusable\n",
    " 5. to make code more extensible\n"
   ]
  },
  {
   "cell_type": "code",
   "execution_count": 1,
   "metadata": {},
   "outputs": [
    {
     "name": "stdout",
     "output_type": "stream",
     "text": [
      "Welcome to Krish Youtube Channel\n",
      "Welcome to Krish Youtube Channel\n",
      "Welcome to Krish Youtube Channel\n"
     ]
    }
   ],
   "source": [
    "#function \n",
    "\n",
    "def welcome():\n",
    "    print(\"Welcome to Krish Youtube Channel\")\n",
    "    \n",
    "    \n",
    "welcome()\n",
    "welcome()\n",
    "welcome()"
   ]
  },
  {
   "cell_type": "code",
   "execution_count": 2,
   "metadata": {},
   "outputs": [
    {
     "name": "stdout",
     "output_type": "stream",
     "text": [
      "Welcome to Krish Youtube Channel\n",
      "Welcome to Krish Youtube Channel\n",
      "Welcome to Krish Youtube Channel\n"
     ]
    }
   ],
   "source": [
    "def welcome():\n",
    "    return \"Welcome to Krish Youtube Channel\"\n",
    "    \n",
    "    \n",
    "print(welcome())\n",
    "print(welcome())\n",
    "print(welcome())"
   ]
  },
  {
   "cell_type": "code",
   "execution_count": 4,
   "metadata": {},
   "outputs": [
    {
     "name": "stdout",
     "output_type": "stream",
     "text": [
      "Welcome to Krish Youtube Channel please subscribe\n"
     ]
    }
   ],
   "source": [
    "def welcome():\n",
    "    return \"Welcome to Krish Youtube Channel\"\n",
    "\n",
    "msg = welcome()\n",
    "print(msg + \" please subscribe\")"
   ]
  },
  {
   "cell_type": "code",
   "execution_count": 6,
   "metadata": {},
   "outputs": [
    {
     "name": "stdout",
     "output_type": "stream",
     "text": [
      "Welcome all Please Subscribe\n"
     ]
    }
   ],
   "source": [
    "def welcome(msg)-> str:\n",
    "    \"\"\"\n",
    "    Description: This fucntion will show a welcome message\n",
    "    \n",
    "    \n",
    "    Return : This function will return the welcome message\n",
    "    \"\"\"\n",
    "    \n",
    "    return msg\n",
    "\n",
    "\n",
    "msg= welcome(\"Welcome all\")\n",
    "print(msg + \" Please Subscribe\")"
   ]
  },
  {
   "cell_type": "code",
   "execution_count": 7,
   "metadata": {},
   "outputs": [
    {
     "name": "stdout",
     "output_type": "stream",
     "text": [
      "138 769\n"
     ]
    }
   ],
   "source": [
    "## functions to add even and odd numbers \n",
    "\n",
    "def even_odd_sum(lst):\n",
    "    \n",
    "    even_sum=0\n",
    "    odd_sum=0\n",
    "    for i in lst:\n",
    "        if i%2==0:\n",
    "            even_sum+=i\n",
    "        else:\n",
    "            odd_sum+=i\n",
    "    \n",
    "    return even_sum,odd_sum\n",
    "\n",
    "sum1,sum2=even_odd_sum([1,2,3,45,6,667,7,6,8,8,8,54,23,23,46])\n",
    "print(sum1,sum2)"
   ]
  },
  {
   "cell_type": "code",
   "execution_count": 8,
   "metadata": {},
   "outputs": [],
   "source": [
    "### Positions and keywords argument"
   ]
  },
  {
   "cell_type": "code",
   "execution_count": 9,
   "metadata": {},
   "outputs": [
    {
     "name": "stdout",
     "output_type": "stream",
     "text": [
      "Hello Krish you are 32 years old \n"
     ]
    }
   ],
   "source": [
    "## positional arguments\n",
    "\n",
    "def hello(name,age):\n",
    "    print(\"Hello \"+name+\" you are \"+str(age)+ \" years old \")\n",
    "    \n",
    "    \n",
    "hello(\"Krish\",32)"
   ]
  },
  {
   "cell_type": "code",
   "execution_count": 10,
   "metadata": {},
   "outputs": [
    {
     "name": "stdout",
     "output_type": "stream",
     "text": [
      "Hello Krish you are 32 years old \n"
     ]
    }
   ],
   "source": [
    "## keywords arguments\n",
    "\n",
    "def hello(name,age = 32):\n",
    "    print(\"Hello \"+name+\" you are \"+str(age)+ \" years old \")\n",
    "    \n",
    "    \n",
    "hello(\"Krish\")\n"
   ]
  },
  {
   "cell_type": "code",
   "execution_count": 3,
   "metadata": {},
   "outputs": [
    {
     "name": "stdout",
     "output_type": "stream",
     "text": [
      "Hello Krish you are 32 years old \n"
     ]
    }
   ],
   "source": [
    "def hello(name,age):\n",
    "    print(\"Hello \"+name+\" you are \"+str(age)+ \" years old \")\n",
    "    \n",
    "    \n",
    "hello(\"Krish\",age=32)"
   ]
  },
  {
   "cell_type": "code",
   "execution_count": 11,
   "metadata": {},
   "outputs": [
    {
     "name": "stdout",
     "output_type": "stream",
     "text": [
      "('Krish', 'Naik')\n",
      "{'age': 32, 'dob': 1989}\n"
     ]
    }
   ],
   "source": [
    "def hello(*args,**kwargs):  ## *args ---> saying about positional arguments , **kwargs ---> saying about keywords arguments\n",
    "    print(args)\n",
    "    print(kwargs)\n",
    "    \n",
    "hello(\"Krish\",\"Naik\",age=32,dob=1989)"
   ]
  },
  {
   "cell_type": "code",
   "execution_count": 8,
   "metadata": {},
   "outputs": [
    {
     "name": "stdout",
     "output_type": "stream",
     "text": [
      "(['Krish', 'Naik'], {'age': 32, 'dob': 1989})\n",
      "{}\n",
      "<class 'tuple'>\n",
      "<class 'dict'>\n"
     ]
    }
   ],
   "source": [
    "def hello(*args,**kwargs):  \n",
    "    print(args)\n",
    "    print(kwargs)\n",
    "    print(type(args))\n",
    "    print(type(kwargs))\n",
    "    \n",
    "lst=list(('Krish','Naik'))\n",
    "dict_val={'age': 32, 'dob': 1989 }\n",
    "\n",
    "hello(lst,dict_val)"
   ]
  },
  {
   "cell_type": "code",
   "execution_count": 15,
   "metadata": {},
   "outputs": [
    {
     "name": "stdout",
     "output_type": "stream",
     "text": [
      "('Krish', 'Naik')\n",
      "{'age': 32, 'dob': 1989}\n"
     ]
    }
   ],
   "source": [
    "def hello(*args,**kwargs):  \n",
    "    print(args)\n",
    "    print(kwargs)\n",
    "    \n",
    "lst=list(('Krish','Naik'))\n",
    "dict_val={'age': 32, 'dob': 1989 }\n",
    "\n",
    "hello(*lst,**dict_val)"
   ]
  },
  {
   "cell_type": "code",
   "execution_count": 4,
   "metadata": {},
   "outputs": [
    {
     "name": "stdout",
     "output_type": "stream",
     "text": [
      "('Krish', 'Naik')\n",
      "{'age': 32, 'dob': 1989}\n",
      "('Krish', 'NAik', '1', '2', '1989')\n",
      "{'age': 10, 'dob': 1990}\n"
     ]
    }
   ],
   "source": [
    "def hello(*args,**kwargs):\n",
    "    print(args)\n",
    "    print(kwargs)\n",
    "\n",
    "\n",
    "lst=list(('Krish', 'Naik'))\n",
    "dict_val={'age': 32, 'dob': 1989}\n",
    "\n",
    "hello(*lst,**dict_val)\n",
    "\n",
    "hello(\"Krish\",\"NAik\",\"1\",\"2\",\"1989\",age=10,dob=1990)"
   ]
  },
  {
   "cell_type": "code",
   "execution_count": null,
   "metadata": {},
   "outputs": [],
   "source": []
  },
  {
   "cell_type": "code",
   "execution_count": null,
   "metadata": {},
   "outputs": [],
   "source": []
  },
  {
   "cell_type": "code",
   "execution_count": null,
   "metadata": {},
   "outputs": [],
   "source": []
  },
  {
   "cell_type": "code",
   "execution_count": null,
   "metadata": {},
   "outputs": [],
   "source": []
  },
  {
   "cell_type": "code",
   "execution_count": null,
   "metadata": {},
   "outputs": [],
   "source": []
  },
  {
   "cell_type": "code",
   "execution_count": null,
   "metadata": {},
   "outputs": [],
   "source": []
  },
  {
   "cell_type": "code",
   "execution_count": null,
   "metadata": {},
   "outputs": [],
   "source": []
  },
  {
   "cell_type": "code",
   "execution_count": null,
   "metadata": {},
   "outputs": [],
   "source": []
  },
  {
   "cell_type": "code",
   "execution_count": null,
   "metadata": {},
   "outputs": [],
   "source": []
  },
  {
   "cell_type": "code",
   "execution_count": null,
   "metadata": {},
   "outputs": [],
   "source": []
  },
  {
   "cell_type": "code",
   "execution_count": null,
   "metadata": {},
   "outputs": [],
   "source": []
  }
 ],
 "metadata": {
  "kernelspec": {
   "display_name": "Python 3",
   "language": "python",
   "name": "python3"
  },
  "language_info": {
   "codemirror_mode": {
    "name": "ipython",
    "version": 3
   },
   "file_extension": ".py",
   "mimetype": "text/x-python",
   "name": "python",
   "nbconvert_exporter": "python",
   "pygments_lexer": "ipython3",
   "version": "3.13.0"
  }
 },
 "nbformat": 4,
 "nbformat_minor": 2
}
